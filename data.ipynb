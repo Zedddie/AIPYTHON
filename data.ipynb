{
 "cells": [
  {
   "cell_type": "code",
   "execution_count": 14,
   "metadata": {},
   "outputs": [],
   "source": [
    "colors = ['красный', 'оранжевый', 'желтый', 'зеленый' , 'голубой', 'синий' , 'фиолетоеый']"
   ]
  },
  {
   "cell_type": "code",
   "execution_count": 15,
   "metadata": {},
   "outputs": [
    {
     "data": {
      "text/plain": [
       "[]"
      ]
     },
     "execution_count": 15,
     "metadata": {},
     "output_type": "execute_result"
    }
   ],
   "source": [
    "colors[-2:3]"
   ]
  },
  {
   "cell_type": "code",
   "execution_count": 16,
   "metadata": {},
   "outputs": [],
   "source": [
    "my_list = [1]\n",
    "for i in range(100):\n",
    "  my_list.append(my_list[i] ** 2)\n",
    "my_list.sort(reverse = True)"
   ]
  },
  {
   "cell_type": "code",
   "execution_count": 17,
   "metadata": {},
   "outputs": [
    {
     "name": "stdout",
     "output_type": "stream",
     "text": [
      "Turkey\n"
     ]
    }
   ],
   "source": [
    "person_dict = { \n",
    "    'person_id': [417283, 849734, 132223, 573943, 19475, 3294095],  \n",
    "    'person_name': ['Keanu Reeves', 'Jim Carrey', 'Johnny Depp', 'Keira Knightley', 'Natalie Portman', 'Marion Cotillard']\n",
    "}\n",
    "travel_log = { \n",
    "    'travel_id': [101, 102, 105, 121, 145, 161, 178], \n",
    "    'person_id': [573943, 132223, 849734, 417283, 382043, 3294095, 417283], \n",
    "    'country': ['Russia', 'Australia', 'Turkey', 'Japan', 'China', 'USA', 'Mexico'],\n",
    "    'price': [5900, 15330, 10200, 12990, 9890, 13500, 7400], \n",
    "    'real_cost': [3500, 10280, 7600, 9850, 4340, 11200, 3300]\n",
    "}\n",
    "person_name = str(input())\n",
    "def travel_person(person_name):\n",
    "    person_ids = person_dict.get('person_id')\n",
    "    person_names = person_dict.get('person_name')\n",
    "    if not  person_name in person_names:\n",
    "        return 'None'\n",
    "    name_id = person_ids[person_names.index(person_name)]\n",
    "    return country_seeker(name_id)\n",
    "\n",
    "def country_seeker(name_id):\n",
    "    countries = travel_log.get('country')\n",
    "    person_ids = travel_log.get('person_id')\n",
    "    person_count = person_ids.count(name_id)\n",
    "    if person_count == 0:\n",
    "        return 'None'\n",
    "    elif person_count == 1:\n",
    "        return countries[person_ids.index(name_id)]\n",
    "    else:\n",
    "        return \"Several\"\n",
    "print(travel_person(person_name))\n",
    "\n",
    "\n",
    "\n"
   ]
  },
  {
   "cell_type": "code",
   "execution_count": 29,
   "metadata": {},
   "outputs": [
    {
     "name": "stdout",
     "output_type": "stream",
     "text": [
      "Тяжёлая интернет:)зависимость :) это когда ты выходишь из интернета:) а он из тебя нет:)\n"
     ]
    }
   ],
   "source": [
    "sinput = 'Тяжёлая интернет-зависимость - это когда ты выходишь из интернета, а он из тебя нет.'\n",
    "punctuationMarks = [',','.',':','-','!','?']\n",
    "def rep(x):\n",
    "    if x in punctuationMarks:\n",
    "        return ':)'\n",
    "    return x\n",
    "soutput = \"\".join(map(rep,sinput))\n",
    "print(soutput)"
   ]
  },
  {
   "cell_type": "code",
   "execution_count": 12,
   "metadata": {},
   "outputs": [
    {
     "name": "stdout",
     "output_type": "stream",
     "text": [
      "о\n",
      "о\n",
      "е\n"
     ]
    },
    {
     "data": {
      "text/plain": [
       "[None, None, None]"
      ]
     },
     "execution_count": 12,
     "metadata": {},
     "output_type": "execute_result"
    }
   ],
   "source": [
    "sinput = 'молодец'\n",
    "vowels = ['а',  'у',  'о',  'ы',  'и', 'э',  'я',  'ю',  'ё',  'е']\n",
    "[print(x) for x in filter(lambda letter: letter in vowels,sinput)]"
   ]
  },
  {
   "cell_type": "code",
   "execution_count": 13,
   "metadata": {},
   "outputs": [
    {
     "data": {
      "text/plain": [
       "'a'"
      ]
     },
     "execution_count": 13,
     "metadata": {},
     "output_type": "execute_result"
    }
   ],
   "source": [
    "words = [\"sofa\", \"suitcase\", \"valise\", \"picture\", \"basket\", \"carton\", \"doggie\"]\n",
    "list(map(lambda w: sorted(w)[0], words))[5]"
   ]
  },
  {
   "cell_type": "code",
   "execution_count": 14,
   "metadata": {},
   "outputs": [
    {
     "data": {
      "text/plain": [
       "['a', 'f', 'o', 's']"
      ]
     },
     "execution_count": 14,
     "metadata": {},
     "output_type": "execute_result"
    }
   ],
   "source": [
    "sorted('sofa')"
   ]
  },
  {
   "cell_type": "code",
   "execution_count": 16,
   "metadata": {},
   "outputs": [],
   "source": [
    "a = str(input())\n",
    "sum = 0\n",
    "def med(a):\n",
    "    for x in a:\n",
    "        sum + x\n",
    "        "
   ]
  },
  {
   "cell_type": "code",
   "execution_count": 20,
   "metadata": {},
   "outputs": [
    {
     "data": {
      "text/plain": [
       "2.23606797749979"
      ]
     },
     "execution_count": 20,
     "metadata": {},
     "output_type": "execute_result"
    }
   ],
   "source": [
    "from statistics import mean\n",
    "\n",
    "\n",
    "\n",
    "while "
   ]
  },
  {
   "cell_type": "code",
   "execution_count": 11,
   "metadata": {},
   "outputs": [
    {
     "ename": "SyntaxError",
     "evalue": "invalid syntax (<ipython-input-11-e5b24f7225c9>, line 12)",
     "output_type": "error",
     "traceback": [
      "\u001b[1;36m  File \u001b[1;32m\"<ipython-input-11-e5b24f7225c9>\"\u001b[1;36m, line \u001b[1;32m12\u001b[0m\n\u001b[1;33m    columns = ['Погл. Ккал', 'Сжиг. Ккал'],\u001b[0m\n\u001b[1;37m            ^\u001b[0m\n\u001b[1;31mSyntaxError\u001b[0m\u001b[1;31m:\u001b[0m invalid syntax\n"
     ]
    }
   ],
   "source": [
    "import pandas as pd\n",
    "\n",
    "\n",
    "callPlus = input()\n",
    "callMinus = input()\n",
    "\n",
    "def Fats(x, y):\n",
    "    return (y - x) / 7716\n",
    "    #один килограмм жира равен 7 716 ккал.\n",
    "\n",
    "callories = pd.DataFrame([ [callPlus, callMinus], [(callPlus - callMinus), Fats(callMinus, callPlus)],\n",
    "                                                                columns = ['Погл. Ккал', 'Сжиг. Ккал'], \n",
    "                                                                            index = [\"Ввод\", \"Вывод\"]]\n",
    "display(callories)"
   ]
  },
  {
   "cell_type": "code",
   "execution_count": 1,
   "metadata": {},
   "outputs": [
    {
     "data": {
      "text/plain": [
       "0.06480041472265423"
      ]
     },
     "execution_count": 1,
     "metadata": {},
     "output_type": "execute_result"
    }
   ],
   "source": [
    "500 / 7716"
   ]
  },
  {
   "cell_type": "code",
   "execution_count": null,
   "metadata": {},
   "outputs": [],
   "source": []
  }
 ],
 "metadata": {
  "interpreter": {
   "hash": "b3ba2566441a7c06988d0923437866b63cedc61552a5af99d1f4fb67d367b25f"
  },
  "kernelspec": {
   "display_name": "Python 3.8.5 64-bit ('base': conda)",
   "name": "python3"
  },
  "language_info": {
   "codemirror_mode": {
    "name": "ipython",
    "version": 3
   },
   "file_extension": ".py",
   "mimetype": "text/x-python",
   "name": "python",
   "nbconvert_exporter": "python",
   "pygments_lexer": "ipython3",
   "version": "3.8.5"
  },
  "orig_nbformat": 4
 },
 "nbformat": 4,
 "nbformat_minor": 2
}
